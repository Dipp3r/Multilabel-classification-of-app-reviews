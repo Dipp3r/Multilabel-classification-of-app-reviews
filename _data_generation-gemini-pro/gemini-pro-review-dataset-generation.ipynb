{
 "cells": [
  {
   "cell_type": "code",
   "execution_count": 1,
   "metadata": {},
   "outputs": [
    {
     "name": "stdout",
     "output_type": "stream",
     "text": [
      "Note: you may need to restart the kernel to use updated packages.\n"
     ]
    },
    {
     "name": "stderr",
     "output_type": "stream",
     "text": [
      "DEPRECATION: colab 1.13.5 has a non-standard dependency specifier pytz>=2011n. pip 24.0 will enforce this behaviour change. A possible replacement is to upgrade to a newer version of colab or contact the author to suggest that they release a version with a conforming dependency specifiers. Discussion can be found at https://github.com/pypa/pip/issues/12063\n",
      "WARNING: There was an error checking the latest version of pip.\n"
     ]
    }
   ],
   "source": [
    "%pip install -q -U google-generativeai"
   ]
  },
  {
   "cell_type": "code",
   "execution_count": 2,
   "metadata": {},
   "outputs": [],
   "source": [
    "import pathlib\n",
    "import textwrap\n",
    "\n",
    "import google.generativeai as genai\n",
    "\n",
    "from IPython.display import display\n",
    "from IPython.display import Markdown\n",
    "\n",
    "\n",
    "def to_markdown(text):\n",
    "  text = text.replace('•', '  *')\n",
    "  return Markdown(textwrap.indent(text, '> ', predicate=lambda _: True))\n"
   ]
  },
  {
   "cell_type": "code",
   "execution_count": 3,
   "metadata": {},
   "outputs": [
    {
     "name": "stdout",
     "output_type": "stream",
     "text": [
      "Requirement already satisfied: python-dotenv in c:\\users\\admin\\appdata\\local\\programs\\python\\python39\\lib\\site-packages (0.20.0)\n",
      "Note: you may need to restart the kernel to use updated packages.\n"
     ]
    },
    {
     "name": "stderr",
     "output_type": "stream",
     "text": [
      "DEPRECATION: colab 1.13.5 has a non-standard dependency specifier pytz>=2011n. pip 24.0 will enforce this behaviour change. A possible replacement is to upgrade to a newer version of colab or contact the author to suggest that they release a version with a conforming dependency specifiers. Discussion can be found at https://github.com/pypa/pip/issues/12063\n",
      "WARNING: There was an error checking the latest version of pip.\n"
     ]
    }
   ],
   "source": [
    "%pip install python-dotenv"
   ]
  },
  {
   "cell_type": "code",
   "execution_count": 4,
   "metadata": {},
   "outputs": [],
   "source": [
    "from dotenv import dotenv_values\n",
    "\n",
    "# Load environment variables from .env file\n",
    "env_vars = dotenv_values(\".env\")\n",
    "\n",
    "GOOGLE_API_KEY = env_vars.get(\"API_KEY\")\n",
    "genai.configure(api_key=GOOGLE_API_KEY)\n"
   ]
  },
  {
   "cell_type": "code",
   "execution_count": 5,
   "metadata": {},
   "outputs": [
    {
     "name": "stdout",
     "output_type": "stream",
     "text": [
      "models/gemini-1.0-pro\n",
      "models/gemini-1.0-pro-001\n",
      "models/gemini-1.0-pro-latest\n",
      "models/gemini-1.0-pro-vision-latest\n",
      "models/gemini-pro\n",
      "models/gemini-pro-vision\n"
     ]
    }
   ],
   "source": [
    "for m in genai.list_models():\n",
    "  if 'generateContent' in m.supported_generation_methods:\n",
    "    print(m.name)"
   ]
  },
  {
   "cell_type": "code",
   "execution_count": 6,
   "metadata": {},
   "outputs": [],
   "source": [
    "model = genai.GenerativeModel('gemini-1.0-pro')"
   ]
  },
  {
   "cell_type": "code",
   "execution_count": 7,
   "metadata": {},
   "outputs": [],
   "source": [
    "description = \"assume that the review is about a software application and classify the review based on multiple labels: 'F':'Feature Request','AU':'Authentication','FI':'Filtering', 'A':'Availability', 'L':'Legal', 'LF':'Look-and-Feel', 'MN':'Maintainability', 'O':'Operability', 'PE':'Performance', 'SC':'Scalability', 'SE':'Security', 'US':'Usability', 'BR':'Bug Report', 'PO':'Portability', 'IR':'Irrelevant'. Positive reviews/compliments or sensitive content or inappropriate context or irrelevant comments or statements that are incomprehensible or that does not specify any issue/requirement are considered as IR, and cannot be classified under any other label. Issues associated with bugs/crashes/errors in the application should be classified as BR. Only issues relating to login/authentication errors, authorization, OTP, or sign-in should fall under AU. Any issues pertaining to functionality such as searching, filtering, sorting, arranging, organizing, or grouping can fall under FI. Issues related to the unavailability of the application in certain countries or on certain devices may fall under A. Legal issues, subscription matters, in-app purchases, or terms and conditions concerns can come under L. Any aspect not classified as a functional requirement and related to the visual and feel of the app may come under LF. Issues concerning customer service, inadequate support, inconsistent updates, or limited functionality will be classified under MN. Any problems related to abnormal functioning of the app or issues in opening, updating, or working of the app may fall into O. Issues related to limited quantity, version scalability, or expansion of a particular feature may come under SC. Any concerns regarding privacy and security of the user will come under SE. Personal concerns or issues in using the application may fall under US. Issues pertaining to the compatibility of the application fall under PO. The response must be a list of the abbreviations of the class the review falls under from - [F, BR, AU, FI, IR, A, L, LF, MN, O, PE, SC, SE, US, PO] (they must be comma seperated, not in bulletin points).Strictly no other text should be delivered as response just the list!, also give explanation on the next line.\""
   ]
  },
  {
   "cell_type": "code",
   "execution_count": 8,
   "metadata": {},
   "outputs": [],
   "source": [
    "classes = [\"F\", \"BR\", \"AU\", \"FI\", \"IR\", \"A\", \"L\", \"LF\", \"MN\", \"O\", \"PE\", \"SC\", \"SE\", \"US\", \"PO\"]"
   ]
  },
  {
   "cell_type": "code",
   "execution_count": 9,
   "metadata": {},
   "outputs": [],
   "source": [
    "async def Classify(review):\n",
    "    prompt = f\"'{review}', {description}\"\n",
    "    try:\n",
    "        response = model.generate_content(prompt)\n",
    "        return response.text.split('\\n')[0].split(\",\")\n",
    "    except Exception as e:\n",
    "        return [\"IR\"]"
   ]
  },
  {
   "cell_type": "code",
   "execution_count": 10,
   "metadata": {},
   "outputs": [
    {
     "name": "stdout",
     "output_type": "stream",
     "text": [
      "Requirement already satisfied: tqdm in c:\\users\\admin\\appdata\\local\\programs\\python\\python39\\lib\\site-packages (4.62.3)\n",
      "Requirement already satisfied: colorama in c:\\users\\admin\\appdata\\local\\programs\\python\\python39\\lib\\site-packages (from tqdm) (0.4.4)\n",
      "Note: you may need to restart the kernel to use updated packages.\n"
     ]
    },
    {
     "name": "stderr",
     "output_type": "stream",
     "text": [
      "DEPRECATION: colab 1.13.5 has a non-standard dependency specifier pytz>=2011n. pip 24.0 will enforce this behaviour change. A possible replacement is to upgrade to a newer version of colab or contact the author to suggest that they release a version with a conforming dependency specifiers. Discussion can be found at https://github.com/pypa/pip/issues/12063\n",
      "WARNING: There was an error checking the latest version of pip.\n"
     ]
    }
   ],
   "source": [
    "%pip install tqdm"
   ]
  },
  {
   "cell_type": "code",
   "execution_count": 11,
   "metadata": {},
   "outputs": [],
   "source": [
    "from tqdm.notebook import tqdm  # Import tqdm for displaying the progress bar\n",
    "import pandas as pd\n",
    "\n",
    "async def Augment_dataset(fileDir,filename):\n",
    "    data = []\n",
    "    data_df = pd.read_csv(f\"{fileDir}/{filename}.csv\",sep=\",\",header=0,quotechar='\"')\n",
    "    current_data = pd.read_csv(f\"./Dataset/{filename}.csv\",sep=\",\",header=0,quotechar='\"')\n",
    "    start_index = current_data.shape[0]\n",
    "    # Calculate the total number of iterations\n",
    "    total_reviews = len(data_df[\"review_text\"]) - start_index\n",
    "\n",
    "    # Initialize tqdm with the total number of iterations\n",
    "    for review in tqdm(data_df[\"review_text\"][start_index: ], total=total_reviews, desc=\"Classifying Reviews\"):\n",
    "        result = {}\n",
    "        classification_list = await Classify(review)\n",
    "        classification_list = [x for x in classification_list if x in classes]\n",
    "        result[\"review_text\"] = review\n",
    "        for req in classes:\n",
    "            if req in classification_list:\n",
    "                result[req] = 1\n",
    "            else:\n",
    "                result[req] = 0\n",
    "        data.append(result)\n",
    "        # Create DataFrame from the data\n",
    "        df = pd.DataFrame(data)\n",
    "        final_df = pd.concat([current_data,df],axis=0)\n",
    "        # Save DataFrame to a CSV file\n",
    "        final_df.to_csv(f\"./Dataset/{filename}.csv\", index=False) "
   ]
  },
  {
   "cell_type": "code",
   "execution_count": 12,
   "metadata": {},
   "outputs": [
    {
     "data": {
      "application/json": {
       "ascii": false,
       "bar_format": null,
       "colour": null,
       "elapsed": 0.007002115249633789,
       "initial": 0,
       "n": 0,
       "ncols": null,
       "nrows": null,
       "postfix": null,
       "prefix": "Classifying Reviews",
       "rate": null,
       "total": 44000,
       "unit": "it",
       "unit_divisor": 1000,
       "unit_scale": false
      },
      "application/vnd.jupyter.widget-view+json": {
       "model_id": "c64c6670a4884e9287f2452884b5c044",
       "version_major": 2,
       "version_minor": 0
      },
      "text/plain": [
       "Classifying Reviews:   0%|          | 0/44000 [00:00<?, ?it/s]"
      ]
     },
     "metadata": {},
     "output_type": "display_data"
    }
   ],
   "source": [
    "await Augment_dataset(\"../code/_1_data_collection/output\",\"dataset2\")"
   ]
  }
 ],
 "metadata": {
  "kernelspec": {
   "display_name": "Python 3",
   "language": "python",
   "name": "python3"
  },
  "language_info": {
   "codemirror_mode": {
    "name": "ipython",
    "version": 3
   },
   "file_extension": ".py",
   "mimetype": "text/x-python",
   "name": "python",
   "nbconvert_exporter": "python",
   "pygments_lexer": "ipython3",
   "version": "3.9.5"
  }
 },
 "nbformat": 4,
 "nbformat_minor": 2
}
