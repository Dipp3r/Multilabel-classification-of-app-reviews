{
 "cells": [
  {
   "cell_type": "markdown",
   "metadata": {},
   "source": [
    "Read Dataset"
   ]
  },
  {
   "cell_type": "markdown",
   "metadata": {},
   "source": [
    "<h6>Dataset overview: This dataset contains reviews of the AngryBirds, Dropbox, and Evernote app, which were taken from Apple’s App Store, other reviews were taken from Android’s Google Play store such as TripAdvisor, PicsArt, Pinterest and Whatsapp. This dataset consist of with 1236 reviews from all previously mentioned apps and all reviews were classified into 13 classes related to Software engineering’s development and maintenance task as follows: 102 as Feature Request(F)reviews, 10 as Availability(A) reviews, 3 as Legal(L) reviews, 62 as Look-and-Feel(LF) reviews, 13 as Maintainability(MN) reviews, 28 as Operability(O) reviews, 33 as Performance(PE) reviews, 1 as Scalability(SC) reviews, 8 as Security(SE) reviews, 105 as Usability(US) reviews, 289 as Bug Reports(BR), 16 as Portability(PO) reviews and 566 as Irrelevant(IR) reviews.</h6>"
   ]
  },
  {
   "cell_type": "code",
   "execution_count": 1,
   "metadata": {},
   "outputs": [],
   "source": [
    "import pandas as pd\n",
    "import numpy as np\n",
    "import matplotlib.pyplot as plt"
   ]
  },
  {
   "cell_type": "code",
   "execution_count": 35,
   "metadata": {},
   "outputs": [],
   "source": [
    "data_df = pd.read_csv(\"../dataset/dataset1.csv\",sep=\",\",header=0,quotechar='\"')"
   ]
  },
  {
   "cell_type": "code",
   "execution_count": 41,
   "metadata": {},
   "outputs": [],
   "source": [
    "classes = {'F':\"Feature Request\",'AU':\"Authentication\",'FI':\"Filtering\", 'A':\"Availability\", 'L':\"Legal\", 'LF':\"Look-and-Feel\", 'MN':\"Maintainability\", 'O':\"Operability\", 'PE':\"Performance\", 'SC':\"Scalability\", 'SE':\"Security\", 'US':\"Usability\", 'BR':\"Bug Report\", 'PO':\"Portability\", 'IR':\"Irrelevant\"}"
   ]
  },
  {
   "cell_type": "code",
   "execution_count": 5,
   "metadata": {},
   "outputs": [
    {
     "name": "stdout",
     "output_type": "stream",
     "text": [
      "                                                 review  F  BR  AU  FI  IR  A  \\\n",
      "0     Make it like better with a giant pig bigger th...  0   0   0   0   0  0   \n",
      "1     These screens are small enough without crowdin...  0   0   0   0   0  0   \n",
      "2     Dear Rovio; If you absolutely must continue tr...  0   0   0   0   1  0   \n",
      "3         App crashes when new power up notice pops up.  0   1   0   0   0  0   \n",
      "4     It would be nice to have an update that didnt ...  0   1   0   0   0  0   \n",
      "...                                                 ... ..  ..  ..  ..  .. ..   \n",
      "1229  Very good app I wish it can work with two numb...  1   0   0   0   0  0   \n",
      "1230  Bakwas application Always not responding probl...  0   1   0   0   0  0   \n",
      "1231                              Ma fav I just love it  0   0   0   0   1  0   \n",
      "1232    But the problem is very slow running to update.  0   0   0   0   0  0   \n",
      "1233  But I'd suggest two important features which a...  0   0   0   0   0  0   \n",
      "\n",
      "      L  LF  MN  O  PE  SC  SE US  PO  \n",
      "0     0   1   0  0   0   0   0  0   0  \n",
      "1     0   1   0  0   0   0   0  0   0  \n",
      "2     0   0   0  0   0   0   0  0   0  \n",
      "3     0   0   0  0   0   0   0  0   0  \n",
      "4     0   0   0  0   0   0   0  0   0  \n",
      "...  ..  ..  .. ..  ..  ..  .. ..  ..  \n",
      "1229  0   0   0  0   0   0   0  0   0  \n",
      "1230  0   0   0  0   0   0   0  0   0  \n",
      "1231  0   0   0  0   0   0   0  0   0  \n",
      "1232  0   0   0  0   1   0   0  0   0  \n",
      "1233  0   0   0  0   0   0   0  0   1  \n",
      "\n",
      "[1234 rows x 16 columns]\n"
     ]
    }
   ],
   "source": [
    "print(data_df)"
   ]
  },
  {
   "cell_type": "code",
   "execution_count": 39,
   "metadata": {},
   "outputs": [
    {
     "data": {
      "text/plain": [
       "21"
      ]
     },
     "execution_count": 39,
     "metadata": {},
     "output_type": "execute_result"
    }
   ],
   "source": [
    "list(data_df[\"FI\"]).count(1)"
   ]
  },
  {
   "cell_type": "code",
   "execution_count": 42,
   "metadata": {},
   "outputs": [
    {
     "data": {
      "text/plain": [
       "{'F': 118,\n",
       " 'AU': 4,\n",
       " 'FI': 21,\n",
       " 'A': 15,\n",
       " 'L': 5,\n",
       " 'LF': 66,\n",
       " 'MN': 11,\n",
       " 'O': 52,\n",
       " 'PE': 36,\n",
       " 'SC': 24,\n",
       " 'SE': 13,\n",
       " 'US': 93,\n",
       " 'BR': 258,\n",
       " 'PO': 21,\n",
       " 'IR': 616}"
      ]
     },
     "execution_count": 42,
     "metadata": {},
     "output_type": "execute_result"
    }
   ],
   "source": [
    "classes_count = {key:[int(x) for x in list(data_df[key])].count(1) for key in classes}\n",
    "classes_count"
   ]
  },
  {
   "cell_type": "code",
   "execution_count": 37,
   "metadata": {},
   "outputs": [
    {
     "name": "stdout",
     "output_type": "stream",
     "text": [
      "Total review count = 1234\n",
      "\n"
     ]
    }
   ],
   "source": [
    "total_count = len(data_df[\"review_text\"])\n",
    "print(f\"Total review count = {total_count}\\n\")"
   ]
  },
  {
   "cell_type": "code",
   "execution_count": 43,
   "metadata": {},
   "outputs": [
    {
     "name": "stdout",
     "output_type": "stream",
     "text": [
      "number of unique classes:15\n"
     ]
    }
   ],
   "source": [
    "print(f\"number of unique classes:{len(classes_count.keys())}\")"
   ]
  }
 ],
 "metadata": {
  "kernelspec": {
   "display_name": "Python 3",
   "language": "python",
   "name": "python3"
  },
  "language_info": {
   "codemirror_mode": {
    "name": "ipython",
    "version": 3
   },
   "file_extension": ".py",
   "mimetype": "text/x-python",
   "name": "python",
   "nbconvert_exporter": "python",
   "pygments_lexer": "ipython3",
   "version": "3.9.5"
  }
 },
 "nbformat": 4,
 "nbformat_minor": 2
}
