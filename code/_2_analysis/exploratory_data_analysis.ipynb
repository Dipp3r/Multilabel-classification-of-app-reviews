{
 "cells": [
  {
   "cell_type": "markdown",
   "metadata": {},
   "source": [
    "Read Dataset"
   ]
  },
  {
   "cell_type": "markdown",
   "metadata": {},
   "source": [
    "<h6>Dataset overview: This dataset contains reviews of the AngryBirds, Dropbox, and Evernote app, which were taken from Apple’s App Store, other reviews were taken from Android’s Google Play store such as TripAdvisor, PicsArt, Pinterest and Whatsapp. This dataset consist of with 1236 reviews from all previously mentioned apps and all reviews were classified into 13 classes related to Software engineering’s development and maintenance task as follows: 102 as Feature Request(F)reviews, 10 as Availability(A) reviews, 3 as Legal(L) reviews, 62 as Look-and-Feel(LF) reviews, 13 as Maintainability(MN) reviews, 28 as Operability(O) reviews, 33 as Performance(PE) reviews, 1 as Scalability(SC) reviews, 8 as Security(SE) reviews, 105 as Usability(US) reviews, 289 as Bug Reports(BR), 16 as Portability(PO) reviews and 566 as Irrelevant(IR) reviews.</h6>"
   ]
  },
  {
   "cell_type": "code",
   "execution_count": 2,
   "metadata": {},
   "outputs": [],
   "source": [
    "import pandas as pd\n",
    "import numpy as np\n",
    "import matplotlib.pyplot as plt"
   ]
  },
  {
   "cell_type": "code",
   "execution_count": 3,
   "metadata": {},
   "outputs": [],
   "source": [
    "data_df1 = pd.read_csv(\"../dataset/dataset1.csv\",sep=\",\",header=0,quotechar='\"')\n",
    "data_df2 = pd.read_csv(\"../dataset/dataset2.csv\",sep=\",\",header=0,quotechar='\"') "
   ]
  },
  {
   "cell_type": "code",
   "execution_count": 4,
   "metadata": {},
   "outputs": [],
   "source": [
    "classes = {'F':\"Feature Request\",'AU':\"Authentication\",'FI':\"Filtering\", 'A':\"Availability\", 'L':\"Legal\", 'LF':\"Look-and-Feel\", 'MN':\"Maintainability\", 'O':\"Operability\", 'PE':\"Performance\", 'SC':\"Scalability\", 'SE':\"Security\", 'US':\"Usability\", 'BR':\"Bug Report\", 'PO':\"Portability\", 'IR':\"Irrelevant\"}"
   ]
  },
  {
   "cell_type": "code",
   "execution_count": 5,
   "metadata": {},
   "outputs": [
    {
     "name": "stdout",
     "output_type": "stream",
     "text": [
      "                                            review_text  F  BR  AU  FI  IR  A  \\\n",
      "0     Make it like better with a giant pig bigger th...  0   0   0   0   0  0   \n",
      "1     These screens are small enough without crowdin...  0   0   0   0   0  0   \n",
      "2     Dear Rovio; If you absolutely must continue tr...  0   0   0   0   1  0   \n",
      "3         App crashes when new power up notice pops up.  0   1   0   0   0  0   \n",
      "4     It would be nice to have an update that didnt ...  0   1   0   0   0  0   \n",
      "...                                                 ... ..  ..  ..  ..  .. ..   \n",
      "1229  Very good app I wish it can work with two numb...  1   0   0   0   0  0   \n",
      "1230  Bakwas application Always not responding probl...  0   1   0   0   0  0   \n",
      "1231                              Ma fav I just love it  0   0   0   0   1  0   \n",
      "1232    But the problem is very slow running to update.  0   0   0   0   0  0   \n",
      "1233  But I'd suggest two important features which a...  0   0   0   0   0  0   \n",
      "\n",
      "      L  LF  MN  O  PE  SC  SE  US  PO  \n",
      "0     0   1   0  0   0   0   0   0   0  \n",
      "1     0   1   0  0   0   0   0   0   0  \n",
      "2     0   0   0  0   0   0   0   0   0  \n",
      "3     0   0   0  0   0   0   0   0   0  \n",
      "4     0   0   0  0   0   0   0   0   0  \n",
      "...  ..  ..  .. ..  ..  ..  ..  ..  ..  \n",
      "1229  0   0   0  0   0   0   0   0   0  \n",
      "1230  0   0   0  0   0   0   0   0   0  \n",
      "1231  0   0   0  0   0   0   0   0   0  \n",
      "1232  0   0   0  0   1   0   0   0   0  \n",
      "1233  0   0   0  0   0   0   0   0   1  \n",
      "\n",
      "[1234 rows x 16 columns]\n"
     ]
    }
   ],
   "source": [
    "print(data_df1)"
   ]
  },
  {
   "cell_type": "code",
   "execution_count": 6,
   "metadata": {},
   "outputs": [
    {
     "name": "stdout",
     "output_type": "stream",
     "text": [
      "                                            review_text  F  BR  AU  FI  IR  A  \\\n",
      "0              it's a Good app that's way I give 5 Star  0   0   0   0   1  0   \n",
      "1     had to write this essay even tho I didn't do n...  0   0   0   0   1  0   \n",
      "2                             ChatGPT, a revolutionary.  0   0   0   0   1  0   \n",
      "3                                               Finally  0   0   0   0   1  0   \n",
      "4                                           very useful  0   0   0   0   1  0   \n",
      "...                                                 ... ..  ..  ..  ..  .. ..   \n",
      "4695  This  then stopped working completely on our t...  0   0   0   0   0  0   \n",
      "4696              Add history and background of drivers  1   0   0   0   0  0   \n",
      "4697  Wish Grab Car would be available again in prov...  0   0   0   0   0  1   \n",
      "4698  Auto delete Recently, when I reinstall. Its ca...  0   0   0   0   0  0   \n",
      "4699                              Can register my gmail  0   0   1   0   0  0   \n",
      "\n",
      "      L  LF  MN  O  PE  SC  SE  US  PO  \n",
      "0     0   0   0  0   0   0   0   0   0  \n",
      "1     0   0   0  0   0   0   0   0   0  \n",
      "2     0   0   0  0   0   0   0   0   0  \n",
      "3     0   0   0  0   0   0   0   0   0  \n",
      "4     0   0   0  0   0   0   0   0   0  \n",
      "...  ..  ..  .. ..  ..  ..  ..  ..  ..  \n",
      "4695  0   0   0  1   0   0   0   0   0  \n",
      "4696  0   0   0  0   0   0   0   0   0  \n",
      "4697  0   0   0  0   0   0   0   0   0  \n",
      "4698  0   0   0  1   0   0   0   0   0  \n",
      "4699  0   0   0  0   0   0   0   0   0  \n",
      "\n",
      "[4700 rows x 16 columns]\n"
     ]
    }
   ],
   "source": [
    "data_df2 = data_df2[:4700]\n",
    "print(data_df2)"
   ]
  },
  {
   "cell_type": "code",
   "execution_count": 7,
   "metadata": {},
   "outputs": [],
   "source": [
    "data_df2.reset_index(drop=True)\n",
    "data_df2.index += 1234"
   ]
  },
  {
   "cell_type": "code",
   "execution_count": 8,
   "metadata": {},
   "outputs": [
    {
     "name": "stdout",
     "output_type": "stream",
     "text": [
      "                                            review_text  F  BR  AU  FI  IR  A  \\\n",
      "0     Make it like better with a giant pig bigger th...  0   0   0   0   0  0   \n",
      "1     These screens are small enough without crowdin...  0   0   0   0   0  0   \n",
      "2     Dear Rovio; If you absolutely must continue tr...  0   0   0   0   1  0   \n",
      "3         App crashes when new power up notice pops up.  0   1   0   0   0  0   \n",
      "4     It would be nice to have an update that didnt ...  0   1   0   0   0  0   \n",
      "...                                                 ... ..  ..  ..  ..  .. ..   \n",
      "5929  This  then stopped working completely on our t...  0   0   0   0   0  0   \n",
      "5930              Add history and background of drivers  1   0   0   0   0  0   \n",
      "5931  Wish Grab Car would be available again in prov...  0   0   0   0   0  1   \n",
      "5932  Auto delete Recently, when I reinstall. Its ca...  0   0   0   0   0  0   \n",
      "5933                              Can register my gmail  0   0   1   0   0  0   \n",
      "\n",
      "      L  LF  MN  O  PE  SC  SE  US  PO  \n",
      "0     0   1   0  0   0   0   0   0   0  \n",
      "1     0   1   0  0   0   0   0   0   0  \n",
      "2     0   0   0  0   0   0   0   0   0  \n",
      "3     0   0   0  0   0   0   0   0   0  \n",
      "4     0   0   0  0   0   0   0   0   0  \n",
      "...  ..  ..  .. ..  ..  ..  ..  ..  ..  \n",
      "5929  0   0   0  1   0   0   0   0   0  \n",
      "5930  0   0   0  0   0   0   0   0   0  \n",
      "5931  0   0   0  0   0   0   0   0   0  \n",
      "5932  0   0   0  1   0   0   0   0   0  \n",
      "5933  0   0   0  0   0   0   0   0   0  \n",
      "\n",
      "[5934 rows x 16 columns]\n"
     ]
    }
   ],
   "source": [
    "data_df = pd.concat([data_df1, data_df2], axis=0)\n",
    "print(data_df)"
   ]
  },
  {
   "cell_type": "code",
   "execution_count": 9,
   "metadata": {},
   "outputs": [
    {
     "data": {
      "text/plain": [
       "176"
      ]
     },
     "execution_count": 9,
     "metadata": {},
     "output_type": "execute_result"
    }
   ],
   "source": [
    "list(data_df[\"AU\"]).count(1)"
   ]
  },
  {
   "cell_type": "code",
   "execution_count": 10,
   "metadata": {},
   "outputs": [
    {
     "data": {
      "text/plain": [
       "{'F': 285,\n",
       " 'AU': 176,\n",
       " 'FI': 31,\n",
       " 'A': 51,\n",
       " 'L': 31,\n",
       " 'LF': 153,\n",
       " 'MN': 60,\n",
       " 'O': 161,\n",
       " 'PE': 188,\n",
       " 'SC': 62,\n",
       " 'SE': 88,\n",
       " 'US': 180,\n",
       " 'BR': 366,\n",
       " 'PO': 38,\n",
       " 'IR': 4202}"
      ]
     },
     "execution_count": 10,
     "metadata": {},
     "output_type": "execute_result"
    }
   ],
   "source": [
    "classes_count = {key:[int(x) for x in list(data_df[key])].count(1) for key in classes}\n",
    "classes_count"
   ]
  },
  {
   "cell_type": "code",
   "execution_count": 11,
   "metadata": {},
   "outputs": [
    {
     "name": "stdout",
     "output_type": "stream",
     "text": [
      "Total review count = 5934\n",
      "\n"
     ]
    }
   ],
   "source": [
    "total_count = len(data_df[\"review_text\"])\n",
    "print(f\"Total review count = {total_count}\\n\")"
   ]
  },
  {
   "cell_type": "code",
   "execution_count": 12,
   "metadata": {},
   "outputs": [
    {
     "name": "stdout",
     "output_type": "stream",
     "text": [
      "number of unique classes:15\n"
     ]
    }
   ],
   "source": [
    "print(f\"number of unique classes:{len(classes_count.keys())}\")"
   ]
  },
  {
   "cell_type": "code",
   "execution_count": 19,
   "metadata": {},
   "outputs": [
    {
     "data": {
      "image/png": "[encoded data removed]",
      "text/plain": [
       "<Figure size 640x480 with 1 Axes>"
      ]
     },
     "metadata": {},
     "output_type": "display_data"
    }
   ],
   "source": [
    "Xclass = classes_count.keys()\n",
    "Yclass = classes_count.values()\n",
    "plt.bar(Xclass,Yclass)\n",
    "plt.xlabel(\"Classes\")\n",
    "plt.ylabel(\"Frequency\")\n",
    "plt.title(\"Class distribution\")\n",
    "plt.savefig(\"class_distribution.png\")\n",
    "plt.show()"
   ]
  }
 ],
 "metadata": {
  "kernelspec": {
   "display_name": "Python 3",
   "language": "python",
   "name": "python3"
  },
  "language_info": {
   "codemirror_mode": {
    "name": "ipython",
    "version": 3
   },
   "file_extension": ".py",
   "mimetype": "text/x-python",
   "name": "python",
   "nbconvert_exporter": "python",
   "pygments_lexer": "ipython3",
   "version": "3.9.5"
  }
 },
 "nbformat": 4,
 "nbformat_minor": 2
}
